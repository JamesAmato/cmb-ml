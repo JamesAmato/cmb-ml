{
 "cells": [
  {
   "cell_type": "markdown",
   "metadata": {},
   "source": [
    "# Hydra Configurations Tutorial"
   ]
  },
  {
   "cell_type": "code",
   "execution_count": 2,
   "metadata": {},
   "outputs": [
    {
     "name": "stdout",
     "output_type": "stream",
     "text": [
      "The autoreload extension is already loaded. To reload it, use:\n",
      "  %reload_ext autoreload\n"
     ]
    }
   ],
   "source": [
    "%load_ext autoreload\n",
    "%autoreload 2"
   ]
  },
  {
   "cell_type": "markdown",
   "metadata": {},
   "source": [
    "Hydra is a tool developed by Meta to allow for elegant configuration management of complex programs.\n",
    "\n",
    "In CMB-ML, we need a large amount of configurations to alter generation of simulations, model parameters, and file management.\n",
    "\n",
    "The following cells will show a basic overview of hydra and how it is utilized in the repository."
   ]
  },
  {
   "cell_type": "markdown",
   "metadata": {},
   "source": [
    "## Overview of hydra file structure\n",
    "\n",
    "'tut_conf' directory is a subset of the main configurations used in CMB-ML for simplicity in displaying the configurations. \n",
    "\n",
    "Directory structure is as follows\n",
    "```\n",
    "├─ tut_conf\n",
    "│  └─ scenario\n",
    "│      ├─ scenario_32_IQU.yaml\n",
    "|      ├─ scenario_128.yaml\n",
    "|      ├─ scenario_512.yaml\n",
    "│      └─ scenario_2048.yaml\n",
    "│  └─ splits\n",
    "│      ├─ 1-1.yaml\n",
    "|      ├─ 2-2.yaml\n",
    "|      ├─ 4-2.yaml\n",
    "│      └─ all.yaml\n",
    "│  └─ sample_cfg.yaml\n",
    "└── tutorial notebooks here\n",
    "```"
   ]
  },
  {
   "cell_type": "markdown",
   "metadata": {},
   "source": [
    "Side note: Hydra has some slight differences when being used in a notebook file, please refer to `hydra_script_tutorial.py` to see how it works in a script. The rest of the tutorial will use the compose API.\n",
    "#### TODO: fix wording"
   ]
  },
  {
   "cell_type": "code",
   "execution_count": 4,
   "metadata": {},
   "outputs": [],
   "source": [
    "import hydra\n",
    "from hydra import compose, initialize\n",
    "from omegaconf import DictConfig, OmegaConf"
   ]
  },
  {
   "cell_type": "markdown",
   "metadata": {},
   "source": [
    "Hydra allows for a top level configuration file (`sample_cfg.yaml`) to generate a default set of configurations. "
   ]
  },
  {
   "cell_type": "code",
   "execution_count": 12,
   "metadata": {},
   "outputs": [
    {
     "name": "stdout",
     "output_type": "stream",
     "text": [
      "{'scenario': {'nside': 512, 'detector_freqs': [30, 44, 70, 100, 143, 217, 353, 545, 857], 'map_fields': 'I', 'precision': 'float', 'units': 'K_CMB', 'full_instrument': {30: 'IQU', 44: 'IQU', 70: 'IQU', 100: 'IQU', 143: 'IQU', 217: 'IQU', 353: 'IQU', 545: 'I', 857: 'I'}}, 'splits': {'name': '1450', 'Train': {'n_sims': 1000}, 'Valid': {'n_sims': 250}, 'Test': {'n_sims': 200}}, 'nside_sky': 2048, 'preset_strings': ['d9', 's4', 'f1', 'a1', 'co1', 'cib1', 'ksz1', 'tsz1', 'rg1']}\n"
     ]
    }
   ],
   "source": [
    "with initialize(version_base=None, config_path=\"tut_conf\"):\n",
    "    cfg = compose(config_name='sample_cfg')\n",
    "    print(cfg)"
   ]
  },
  {
   "cell_type": "markdown",
   "metadata": {},
   "source": [
    "We can override these default configurations and use a different file from our directory."
   ]
  },
  {
   "cell_type": "code",
   "execution_count": 18,
   "metadata": {},
   "outputs": [
    {
     "name": "stdout",
     "output_type": "stream",
     "text": [
      "{'scenario': {'nside': 128, 'detector_freqs': [30, 44, 70, 100, 143, 217, 353], 'map_fields': 'I', 'precision': 'float', 'units': 'K_CMB', 'full_instrument': {30: 'IQU', 44: 'IQU', 70: 'IQU', 100: 'IQU', 143: 'IQU', 217: 'IQU', 353: 'IQU', 545: 'I', 857: 'I'}}, 'splits': {'name': '4-2', 'Train': {'ps_fidu_fixed': False, 'n_sims': 2}, 'Valid': {'ps_fidu_fixed': False, 'n_sims': 2}, 'Test0': {'ps_fidu_fixed': True, 'n_sims': 2}, 'Test1': {'ps_fidu_fixed': False, 'n_sims': 2}}, 'nside_sky': 2048, 'preset_strings': ['d9', 's4', 'f1', 'a1', 'co1', 'cib1', 'ksz1', 'tsz1', 'rg1']}\n"
     ]
    }
   ],
   "source": [
    "with initialize(version_base=None, config_path=\"tut_conf\"):\n",
    "    cfg = compose(config_name='sample_cfg',\n",
    "                  overrides=['scenario=scenario_128', 'splits=4-2'])\n",
    "    print(cfg)"
   ]
  },
  {
   "cell_type": "markdown",
   "metadata": {},
   "source": [
    "the compose API allows for context and global intializations of the configurations. "
   ]
  },
  {
   "cell_type": "code",
   "execution_count": 30,
   "metadata": {},
   "outputs": [],
   "source": [
    "hydra.core.global_hydra.GlobalHydra.instance().clear() # if re-initialize is needed, clear the global hydra instance (in case of multiple calls to initialize)\n",
    "\n",
    "initialize(version_base=None, config_path=\"tut_conf\")\n",
    "\n",
    "cfg = compose(config_name='sample_cfg')"
   ]
  },
  {
   "cell_type": "markdown",
   "metadata": {},
   "source": [
    "the `compose` function returns a `DictConfig` type dictionary containing a composition of the chosen configurations. \n",
    "With this object, we can utilize different ways to access the data."
   ]
  },
  {
   "cell_type": "code",
   "execution_count": 31,
   "metadata": {},
   "outputs": [
    {
     "data": {
      "text/plain": [
       "512"
      ]
     },
     "execution_count": 31,
     "metadata": {},
     "output_type": "execute_result"
    }
   ],
   "source": [
    "cfg.scenario.nside # attribute access"
   ]
  },
  {
   "cell_type": "code",
   "execution_count": 33,
   "metadata": {},
   "outputs": [
    {
     "data": {
      "text/plain": [
       "512"
      ]
     },
     "execution_count": 33,
     "metadata": {},
     "output_type": "execute_result"
    }
   ],
   "source": [
    "cfg['scenario']['nside'] # dict access\n"
   ]
  }
 ],
 "metadata": {
  "kernelspec": {
   "display_name": "ml_cmb_pysim_sims",
   "language": "python",
   "name": "python3"
  },
  "language_info": {
   "codemirror_mode": {
    "name": "ipython",
    "version": 3
   },
   "file_extension": ".py",
   "mimetype": "text/x-python",
   "name": "python",
   "nbconvert_exporter": "python",
   "pygments_lexer": "ipython3",
   "version": "3.8.18"
  }
 },
 "nbformat": 4,
 "nbformat_minor": 2
}
